{
  "nbformat": 4,
  "nbformat_minor": 0,
  "metadata": {
    "colab": {
      "provenance": [],
      "authorship_tag": "ABX9TyO+MOBe9zFZlPlI7ruOnHci",
      "include_colab_link": true
    },
    "kernelspec": {
      "name": "python3",
      "display_name": "Python 3"
    },
    "language_info": {
      "name": "python"
    }
  },
  "cells": [
    {
      "cell_type": "markdown",
      "metadata": {
        "id": "view-in-github",
        "colab_type": "text"
      },
      "source": [
        "<a href=\"https://colab.research.google.com/github/trxpti/Multiplier-heroku/blob/main/week1_dsa_practice.ipynb\" target=\"_parent\"><img src=\"https://colab.research.google.com/assets/colab-badge.svg\" alt=\"Open In Colab\"/></a>"
      ]
    },
    {
      "cell_type": "markdown",
      "source": [
        "## To find greatest common divisor between two numbers.\n",
        "\n",
        "\n"
      ],
      "metadata": {
        "id": "UDRaj4nrfGyU"
      }
    },
    {
      "cell_type": "code",
      "source": [
        "def gcd(p,q):\n",
        " cf = []\n",
        " for i in range(1, min(p,q)+1):\n",
        "    if (p % i) ==0 and (q % i)==0:\n",
        "     cf.append(i)\n",
        " return(cf[-1])\n",
        "print(gcd(1246,2680))"
      ],
      "metadata": {
        "colab": {
          "base_uri": "https://localhost:8080/"
        },
        "id": "hZQtRpLNfbWw",
        "outputId": "61936664-4d45-4c51-f0f3-cc3590fd6c30"
      },
      "execution_count": 8,
      "outputs": [
        {
          "output_type": "stream",
          "name": "stdout",
          "text": [
            "2\n"
          ]
        }
      ]
    },
    {
      "cell_type": "markdown",
      "source": [
        "## Shortest method to find geatest common divisor between two numbers."
      ],
      "metadata": {
        "id": "iy4Z-Dr9g_JA"
      }
    },
    {
      "cell_type": "code",
      "source": [
        "def gcd(m,n):\n",
        " for i in range(1, min(m,n)+1):\n",
        "   if (m%i)==0 and (n%i)==0:\n",
        "     mrcf=i\n",
        " return(mrcf)\n",
        "print(gcd(125,1350))"
      ],
      "metadata": {
        "colab": {
          "base_uri": "https://localhost:8080/"
        },
        "id": "PliM3xksgU4V",
        "outputId": "406c3299-4ab5-42f7-a777-2a934a453f1a"
      },
      "execution_count": 13,
      "outputs": [
        {
          "output_type": "stream",
          "name": "stdout",
          "text": [
            "25\n"
          ]
        }
      ]
    }
  ]
}